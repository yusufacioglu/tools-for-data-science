{
 "cells": [
  {
   "cell_type": "markdown",
   "id": "a4aca9d3-9efd-4584-b9f0-abe4f4314a53",
   "metadata": {
    "panel-layout": {
     "height": 358.703125,
     "visible": true,
     "width": 100
    }
   },
   "source": [
    "# Data Science Tools and Ecosystem\n",
    "In this notebook, Data Science Tools and Ecosystem are summarized.\n"
   ]
  },
  {
   "cell_type": "markdown",
   "id": "49604c63-d60a-457d-85b9-1c8f749c8d3a",
   "metadata": {},
   "source": [
    "**Objectives:**\n",
    "  \n",
    "- R\n",
    "- Julia\n",
    "- JavaScript\n",
    "\n",
    "## Author\n",
    "Marco Shimabukuro"
   ]
  },
  {
   "cell_type": "markdown",
   "id": "c0df1cc8-d285-4d20-a10d-e96294e0415e",
   "metadata": {},
   "source": [
    "Some of the popular languages that Data Scientists use are:\n",
    "```\n",
    "1.Phyton\n",
    "2.R\n",
    "3.SQL\n",
    "```\n"
   ]
  },
  {
   "cell_type": "markdown",
   "id": "5cf8b288-8536-4945-82c6-f96b260ea524",
   "metadata": {},
   "source": [
    "Some of the commonly used libraries used by Data Scientists include:\n",
    "```\n",
    "1.NumPy\n",
    "2.PyTorch\n",
    "3.ggplot2\n",
    "```"
   ]
  },
  {
   "cell_type": "markdown",
   "id": "1da7a53a-b4a7-4220-ac9d-37c00e0ac4e9",
   "metadata": {
    "panel-layout": {
     "height": 123.5625,
     "visible": true,
     "width": 100
    }
   },
   "source": [
    "|Data Science Tools|\n",
    "|----|\n",
    "|Anaconda|\n",
    "|Jupyter|\n",
    "|JupyterLab|\n"
   ]
  },
  {
   "cell_type": "code",
   "execution_count": 35,
   "id": "5a1dc504-50bc-46f4-b4fb-6b35dd81dc6a",
   "metadata": {
    "panel-layout": {
     "height": 27.140625,
     "visible": true,
     "width": 100
    }
   },
   "outputs": [
    {
     "data": {
      "text/plain": [
       "17"
      ]
     },
     "execution_count": 35,
     "metadata": {},
     "output_type": "execute_result"
    }
   ],
   "source": [
    "# This a simple arithmetic expression to mutiply then add integers\n",
    "(3*4)+5"
   ]
  },
  {
   "cell_type": "code",
   "execution_count": 41,
   "id": "d43b4fbf-d665-4747-bcb2-ccded7f186c9",
   "metadata": {},
   "outputs": [
    {
     "name": "stdout",
     "output_type": "stream",
     "text": [
      "3.3333333333333335\n"
     ]
    }
   ],
   "source": [
    "# This will convert 200 minutes to hours by diving by 60\n",
    "h = 200/60\n",
    "print (h)"
   ]
  },
  {
   "cell_type": "code",
   "execution_count": null,
   "id": "e060a93a-5ec0-4ff1-97c1-acfde8cbdc5f",
   "metadata": {},
   "outputs": [],
   "source": []
  }
 ],
 "metadata": {
  "kernelspec": {
   "display_name": "Python 3 (ipykernel)",
   "language": "python",
   "name": "python3"
  },
  "language_info": {
   "codemirror_mode": {
    "name": "ipython",
    "version": 3
   },
   "file_extension": ".py",
   "mimetype": "text/x-python",
   "name": "python",
   "nbconvert_exporter": "python",
   "pygments_lexer": "ipython3",
   "version": "3.12.4"
  },
  "panel-cell-order": [
   "1a8f66e4-9955-4d76-9996-a6b3bc9caf3f",
   "1da7a53a-b4a7-4220-ac9d-37c00e0ac4e9",
   "5a1dc504-50bc-46f4-b4fb-6b35dd81dc6a"
  ]
 },
 "nbformat": 4,
 "nbformat_minor": 5
}
